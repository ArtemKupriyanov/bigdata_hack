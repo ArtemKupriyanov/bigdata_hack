{
 "cells": [
  {
   "cell_type": "code",
   "execution_count": null,
   "metadata": {
    "run_control": {
     "frozen": false,
     "read_only": false
    }
   },
   "outputs": [],
   "source": [
    "#~/Library/Jupyter/nbextensions/snippets\n",
    "import numpy as np\n",
    "import pandas as pd\n",
    "import matplotlib.pyplot as plt\n",
    "%matplotlib inline\n",
    "import seaborn as sns\n",
    "import os\n",
    "from tqdm import tqdm_notebook, tqdm\n",
    "from sklearn.pipeline import Pipeline\n",
    "from sklearn.linear_model import LinearRegression\n",
    "from sklearn.cross_validation import cross_val_score, train_test_split\n",
    "from sklearn.feature_extraction.text import TfidfVectorizer, CountVectorizer\n",
    "from sklearn.preprocessing import StandardScaler, RobustScaler, Normalizer\n",
    "from sklearn import manifold, decomposition, linear_model, ensemble, neighbors, cross_validation\n",
    "from sklearn.ensemble import ExtraTreesClassifier, RandomForestClassifier\n",
    "from sklearn.metrics import accuracy_score, roc_auc_score, mean_absolute_error as mae, mean_squared_error as mse\n",
    "import xgboost\n",
    "from xgboost import DMatrix\n",
    "import catboost\n",
    "from sklearn.model_selection import StratifiedKFold\n",
    "from semenov import *\n",
    "import gc\n",
    "from sklearn.model_selection import KFold"
   ]
  },
  {
   "cell_type": "code",
   "execution_count": null,
   "metadata": {
    "run_control": {
     "frozen": false,
     "read_only": false
    }
   },
   "outputs": [],
   "source": [
    "train = pd.read_csv(\"CAX_TrainingData_McK.csv\", na_values=-1)\n",
    "train.head()"
   ]
  },
  {
   "cell_type": "code",
   "execution_count": null,
   "metadata": {
    "run_control": {
     "frozen": false,
     "read_only": false
    }
   },
   "outputs": [],
   "source": [
    "test = pd.read_csv(\"CAX_TestData_McK.csv\", na_values=-1)\n",
    "test.head(2)"
   ]
  },
  {
   "cell_type": "code",
   "execution_count": null,
   "metadata": {
    "collapsed": true
   },
   "outputs": [],
   "source": [
    "def ride_type_desc_transform(x):\n",
    "    if x==\"private\":\n",
    "        return 0\n",
    "    elif x==\"business\":\n",
    "        return 1\n",
    "    else:\n",
    "        return 2\n",
    "    \n",
    "def offer_class_group_transform(x):\n",
    "    if x==\"Economy\":\n",
    "        return 0\n",
    "    return 1\n",
    "    \n",
    "y = train.pop(\"driver_response\")\n",
    "test.pop(\"driver_response\")\n",
    "\n",
    "train.drop([\"offer_gk\", \"order_gk\"], axis=1, inplace=True)\n",
    "test.drop([\"offer_gk\", \"order_gk\"], axis=1, inplace=True)\n",
    "\n",
    "test.ride_type_desc = test.ride_type_desc.apply(ride_type_desc_transform)\n",
    "test.offer_class_group = test.offer_class_group.apply(offer_class_group_transform)\n",
    "\n",
    "train.ride_type_desc = train.ride_type_desc.apply(ride_type_desc_transform)\n",
    "train.offer_class_group = train.offer_class_group.apply(offer_class_group_transform)"
   ]
  },
  {
   "cell_type": "code",
   "execution_count": null,
   "metadata": {
    "collapsed": true,
    "run_control": {
     "frozen": false,
     "read_only": false
    }
   },
   "outputs": [],
   "source": [
    "STAS_CONST = 5\n",
    "\n",
    "def semenov_prep(X_train, y_train, X_val, features, C=STAS_CONST):\n",
    "    se = SemenovEncoding(C=C)\n",
    "    se.fit(X_train, y_train, features=features)\n",
    "    X_val = se.transform(X_val)\n",
    "    \n",
    "    # разбиваю X_train на 3 куска и считаю правильно фичи Стаса.\n",
    "    X_train_new = pd.DataFrame(index=X_train.index, columns=X_val.columns, dtype=np.float64)\n",
    "    \n",
    "    kf = KFold(n_splits=4, shuffle=True, random_state=32578)\n",
    "    for itr, ite in kf.split(X_train):\n",
    "        se = SemenovEncoding(C=C)\n",
    "        se.fit(X_train.iloc[itr], y_train.iloc[itr], features=features)\n",
    "        X_train_new.iloc[ite] = se.transform(X_train.iloc[ite])\n",
    "        \n",
    "    gc.collect()\n",
    "    return X_train_new, X_val\n",
    "\n",
    "def semenov_prep_test(X, y, X_test, features, C=STAS_CONST):\n",
    "    se = SemenovEncoding(C=C)\n",
    "    se.fit(X, y, features=features)\n",
    "    X_test = se.transform(X_test)\n",
    "    X_test.drop(list(set(features) &  set(X_test.columns) - set([\"driver_gk\"])), axis=1, inplace=True)\n",
    "    gc.collect()\n",
    "    return X_test\n",
    "    \n",
    "def data_prep(X_train, y_train, X_val, y_val, stas=[]):\n",
    "    X_train, X_val = semenov_prep(X_train, y_train, X_val, features=stas)\n",
    "    X_train.drop(list(set(stas) &  set(X_train.columns) - set([\"driver_gk\"])), axis=1, inplace=True)\n",
    "    X_val.drop(list(set(stas) &  set(X_val.columns) - set([\"driver_gk\"])), axis=1, inplace=True)\n",
    "    gc.collect()\n",
    "    return X_train, y_train, X_val, y_val"
   ]
  },
  {
   "cell_type": "code",
   "execution_count": null,
   "metadata": {
    "collapsed": true
   },
   "outputs": [],
   "source": [
    "cross_val = StratifiedKFold(n_splits=5, shuffle=True, random_state=0)"
   ]
  },
  {
   "cell_type": "code",
   "execution_count": null,
   "metadata": {
    "collapsed": true
   },
   "outputs": [],
   "source": [
    "stas = [\"weekday_key\", \"hour_key\", \"driver_gk\",\n",
    "        \"offer_class_group\", \"ride_type_desc\"]"
   ]
  },
  {
   "cell_type": "code",
   "execution_count": null,
   "metadata": {
    "collapsed": true
   },
   "outputs": [],
   "source": [
    "new_stas = stas[:]\n",
    "\n",
    "for column_first in tqdm_notebook(stas):\n",
    "    for column_second in tqdm_notebook(stas):\n",
    "        if column_first != column_second:\n",
    "            if column_first + column_second not in train.columns:\n",
    "                new_col = column_first + \"_\" + column_second\n",
    "                train[new_col] = train[column_first].apply(lambda x: str(x) + \"_\")\n",
    "                train[new_col] = train[new_col] + train[column_second].apply(lambda x: str(x))\n",
    "                \n",
    "                test[new_col] = test[column_first].apply(lambda x: str(x) + \"_\")\n",
    "                test[new_col] = test[new_col] + test[column_second].apply(lambda x: str(x))\n",
    "                new_stas.append(new_col)\n",
    "                \n",
    "stas = new_stas"
   ]
  },
  {
   "cell_type": "code",
   "execution_count": null,
   "metadata": {
    "collapsed": true
   },
   "outputs": [],
   "source": [
    "test = semenov_prep_test(train, y, test, features=stas)\n",
    "test.head(10)"
   ]
  },
  {
   "cell_type": "code",
   "execution_count": null,
   "metadata": {
    "collapsed": true,
    "run_control": {
     "frozen": false,
     "read_only": false
    }
   },
   "outputs": [],
   "source": [
    "param = {}\n",
    "param['objective'] = 'binary:logistic'\n",
    "param['eval_metric'] = 'auc'\n",
    "param['max_depth'] = 5\n",
    "param['eta'] = 0.05\n",
    "param['subsample'] = 0.6\n",
    "param['colsample_bytree'] = 0.6\n",
    "param['nthread'] = 15\n",
    "param['alpha'] = 5\n",
    "# param['lambda_bias'] = 0.1\n",
    "param['lambda'] = 5\n",
    "# param['min_child_weight'] = 5\n",
    "\n",
    "\n",
    "# early_stopping_rounds = int(1000 / param['eta'] ** 0.5)"
   ]
  },
  {
   "cell_type": "code",
   "execution_count": null,
   "metadata": {
    "collapsed": true
   },
   "outputs": [],
   "source": [
    "bsts = []\n",
    "train_predictions = np.zeros(len(y))\n",
    "test_predictions = []\n",
    "\n",
    "for itr, ite in cross_val.split(train, y):    \n",
    "    X_train, y_train, X_test, y_test = data_prep(train.iloc[itr], y.iloc[itr],\n",
    "                                                 train.iloc[ite], y.iloc[ite],\n",
    "                                                 stas=stas)\n",
    "    \n",
    "    Xdatatrain = xgboost.DMatrix(data=X_train, label=y_train)\n",
    "    Xdataval = xgboost.DMatrix(data=X_test, label=y_test)\n",
    "    watchlist = [(Xdatatrain, 'train'), (Xdataval, 'eval')]\n",
    "    bst = xgboost.train(list(param.items()), Xdatatrain, 500, \n",
    "                        evals=watchlist, verbose_eval=50)\n",
    "    \n",
    "    Xdatatest = xgboost.DMatrix(test)\n",
    "    \n",
    "    bsts.append(bst)\n",
    "    train_predictions[ite] = bst.predict(Xdataval)\n",
    "    test_predictions.append(bst.predict(Xdatatest))\n",
    "#     break"
   ]
  },
  {
   "cell_type": "code",
   "execution_count": null,
   "metadata": {
    "collapsed": true
   },
   "outputs": [],
   "source": [
    "preds = np.mean(test_predictions, axis=0)\n",
    "sample_submission = pd.read_csv(\"McK_SubmissionFormat.csv\")\n",
    "sample_submission.driver_response = preds\n",
    "sample_submission.to_csv(\"second_submit.csv\", index=None)"
   ]
  }
 ],
 "metadata": {
  "kernelspec": {
   "display_name": "Python 3",
   "language": "python",
   "name": "python3"
  },
  "language_info": {
   "codemirror_mode": {
    "name": "ipython",
    "version": 2
   },
   "file_extension": ".py",
   "mimetype": "text/x-python",
   "name": "python",
   "nbconvert_exporter": "python",
   "pygments_lexer": "ipython2",
   "version": "2.7.13"
  }
 },
 "nbformat": 4,
 "nbformat_minor": 2
}
